{
 "cells": [
  {
   "cell_type": "code",
   "execution_count": 12,
   "id": "4ed20c1b",
   "metadata": {},
   "outputs": [],
   "source": [
    "from textblob import TextBlob"
   ]
  },
  {
   "cell_type": "code",
   "execution_count": 13,
   "id": "b964afe0",
   "metadata": {},
   "outputs": [],
   "source": [
    "metin = [\"Benim adım Engin Karataş\",\n",
    "\n",
    "         \"Kitap okumayı ve ok atmayı seviyorum\",\n",
    "\n",
    "         \"Bu ürün çok kötü\"]"
   ]
  },
  {
   "cell_type": "code",
   "execution_count": 14,
   "id": "fcd32df3",
   "metadata": {},
   "outputs": [
    {
     "name": "stdout",
     "output_type": "stream",
     "text": [
      "blob_eng\n",
      "blob_eng\n",
      "blob_eng\n"
     ]
    }
   ],
   "source": [
    "for yazı in metin:\n",
    "\n",
    "        blob1 = TextBlob(yazı)\n",
    "\n",
    "        blob_eng = blob1.translate(to=\"en\")\n",
    "\n",
    "        print(\"blob_eng\")"
   ]
  },
  {
   "cell_type": "code",
   "execution_count": 15,
   "id": "bd6952c5",
   "metadata": {},
   "outputs": [
    {
     "name": "stdout",
     "output_type": "stream",
     "text": [
      "My name is Engin Karatas\n",
      "Sentiment(polarity=0.0, subjectivity=0.0)\n",
      "I love reading books and throwing ok\n",
      "Sentiment(polarity=0.5, subjectivity=0.55)\n",
      "This item is very bad\n",
      "Sentiment(polarity=-0.9099999999999998, subjectivity=0.8666666666666667)\n"
     ]
    }
   ],
   "source": [
    "for yazı in metin:\n",
    "\n",
    "        blob1 = TextBlob(yazı)\n",
    "\n",
    "        blob_eng = blob1.translate(to=\"en\")\n",
    "        print (blob_eng)\n",
    "        print(blob_eng.sentiment)"
   ]
  },
  {
   "cell_type": "code",
   "execution_count": null,
   "id": "c61ee2f7",
   "metadata": {},
   "outputs": [],
   "source": []
  }
 ],
 "metadata": {
  "kernelspec": {
   "display_name": "Python 3",
   "language": "python",
   "name": "python3"
  },
  "language_info": {
   "codemirror_mode": {
    "name": "ipython",
    "version": 3
   },
   "file_extension": ".py",
   "mimetype": "text/x-python",
   "name": "python",
   "nbconvert_exporter": "python",
   "pygments_lexer": "ipython3",
   "version": "3.8.8"
  }
 },
 "nbformat": 4,
 "nbformat_minor": 5
}
