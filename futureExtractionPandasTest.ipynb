{
 "cells": [
  {
   "cell_type": "code",
   "execution_count": 5,
   "metadata": {},
   "outputs": [
    {
     "name": "stdout",
     "output_type": "stream",
     "text": [
      "Original DataFrame:\n",
      "                    address\n",
      "0        9910 Surrey Ave.--\n",
      "1         92 N. Bishop Ave.\n",
      "2     9910 Golden Star Ave.\n",
      "3            102 Dunbar St.\n",
      "4  17 West Livingston Court\n",
      "\n",
      "Only words:\n",
      "                    address             only_words\n",
      "0        9910 Surrey Ave.--             Surrey Ave\n",
      "1         92 N. Bishop Ave.           N Bishop Ave\n",
      "2     9910 Golden Star Ave.        Golden Star Ave\n",
      "3            102 Dunbar St.              Dunbar St\n",
      "4  17 West Livingston Court  West Livingston Court\n"
     ]
    }
   ],
   "source": [
    "import pandas as pd\n",
    "import re as re\n",
    "\n",
    "df = pd.DataFrame({\n",
    "    'address': ['9910 Surrey Ave.--','92 N. Bishop Ave.','9910 Golden Star Ave.', '102 Dunbar St.', '17 West Livingston Court']\n",
    "})\n",
    "print(\"Original DataFrame:\")\n",
    "print(df)\n",
    "\n",
    "def search_words(text):\n",
    "    result = re.findall(r'\\b[^\\d\\W]+\\b', text)\n",
    "    return \" \".join(result)\n",
    "\n",
    "df['only_words']=df['address'].apply(lambda x : search_words(x))\n",
    "print(\"\\nOnly words:\")\n",
    "print(df)\n"
   ]
  }
 ],
 "metadata": {
  "interpreter": {
   "hash": "b5623c593edf3a9c30fecf3e392f1a3c31f722d7f93243239e2241963cc60577"
  },
  "kernelspec": {
   "display_name": "Python 3.8.8 ('base')",
   "language": "python",
   "name": "python3"
  },
  "language_info": {
   "codemirror_mode": {
    "name": "ipython",
    "version": 3
   },
   "file_extension": ".py",
   "mimetype": "text/x-python",
   "name": "python",
   "nbconvert_exporter": "python",
   "pygments_lexer": "ipython3",
   "version": "3.8.8"
  },
  "orig_nbformat": 4
 },
 "nbformat": 4,
 "nbformat_minor": 2
}
