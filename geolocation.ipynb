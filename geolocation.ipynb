{
 "cells": [
  {
   "cell_type": "code",
   "execution_count": 12,
   "metadata": {},
   "outputs": [
    {
     "name": "stdout",
     "output_type": "stream",
     "text": [
      "Los Santos, Salamanca, Castilla y León, 37768, España\n",
      "Latitude =  40.5449825 \n",
      "\n",
      "Longitude =  -5.7972566\n"
     ]
    }
   ],
   "source": [
    "\n",
    "# importing geopy library\n",
    "from geopy.geocoders import Nominatim\n",
    " \n",
    "# calling the Nominatim tool\n",
    "loc = Nominatim(user_agent=\"GetLoc\")\n",
    " \n",
    "# entering the location name\n",
    "getLoc = loc.geocode(\"los santos\")\n",
    " \n",
    "# printing address\n",
    "print(getLoc)\n",
    " \n",
    "# printing latitude and longitude\n",
    "try:\n",
    "    print(\"Latitude = \", getLoc.latitude, \"\\n\")\n",
    "    print(\"Longitude = \", getLoc.longitude)\n",
    "except:\n",
    "    print(\"Cannot Find Location\")\n"
   ]
  },
  {
   "cell_type": "code",
   "execution_count": null,
   "metadata": {},
   "outputs": [],
   "source": []
  }
 ],
 "metadata": {
  "interpreter": {
   "hash": "b5623c593edf3a9c30fecf3e392f1a3c31f722d7f93243239e2241963cc60577"
  },
  "kernelspec": {
   "display_name": "Python 3.8.8 ('base')",
   "language": "python",
   "name": "python3"
  },
  "language_info": {
   "codemirror_mode": {
    "name": "ipython",
    "version": 3
   },
   "file_extension": ".py",
   "mimetype": "text/x-python",
   "name": "python",
   "nbconvert_exporter": "python",
   "pygments_lexer": "ipython3",
   "version": "3.8.8"
  },
  "orig_nbformat": 4
 },
 "nbformat": 4,
 "nbformat_minor": 2
}
